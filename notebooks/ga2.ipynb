{
 "cells": [
  {
   "cell_type": "code",
   "execution_count": 1,
   "metadata": {},
   "outputs": [
    {
     "data": {
      "application/vnd.microsoft.datawrangler.viewer.v0+json": {
       "columns": [
        {
         "name": "index",
         "rawType": "int64",
         "type": "integer"
        },
        {
         "name": "reviewId",
         "rawType": "object",
         "type": "string"
        },
        {
         "name": "userName",
         "rawType": "object",
         "type": "string"
        },
        {
         "name": "score",
         "rawType": "int64",
         "type": "integer"
        },
        {
         "name": "content",
         "rawType": "object",
         "type": "string"
        },
        {
         "name": "thumbsUpCount",
         "rawType": "int64",
         "type": "integer"
        },
        {
         "name": "at",
         "rawType": "object",
         "type": "string"
        },
        {
         "name": "replyContent",
         "rawType": "object",
         "type": "unknown"
        },
        {
         "name": "repliedAt",
         "rawType": "object",
         "type": "unknown"
        },
        {
         "name": "reviewCreatedVersion",
         "rawType": "object",
         "type": "string"
        },
        {
         "name": "appVersion",
         "rawType": "object",
         "type": "string"
        }
       ],
       "ref": "b8beadb1-d914-4ec7-ace1-95c39280e4e1",
       "rows": [
        [
         "0",
         "3355d3b0-b9b9-4396-a622-58490ceace56",
         "Ahmed Ali",
         "1",
         "Forgot my airport in his car and I didn't receive any info/follow up from the driver also from the apps",
         "0",
         "2025-02-23 15:41:08",
         "Hi, Ahmed Ali. To help track your missing item more quickly, you can directly contact the driver through your app by following these steps: go to \"Orders\" page > select the transaction > click \"Need help\" > choose \"Lost and found\" > access the article and the details to contact the driver will appear. ^Miko",
         "2025-02-23 16:07:53",
         "5.10.1",
         "5.10.1"
        ],
        [
         "1",
         "2b380829-bcff-4379-9ada-6677c4d9e152",
         "Rob Machin",
         "5",
         "So far so good",
         "0",
         "2025-02-23 14:04:35",
         null,
         null,
         "5.10.1",
         "5.10.1"
        ],
        [
         "2",
         "74fd2294-0298-43d7-9884-a6574b50e631",
         "Shaaa",
         "5",
         "drivernya cakep hehe",
         "0",
         "2025-02-23 13:12:09",
         null,
         null,
         "5.11.1",
         "5.11.1"
        ],
        [
         "3",
         "451872f2-472a-4696-a6f9-cb5ed515c6b6",
         "arfandi amiruddin",
         "5",
         "Good",
         "0",
         "2025-02-23 12:46:18",
         null,
         null,
         "5.11.1",
         "5.11.1"
        ],
        [
         "4",
         "4cc06441-83b3-4d9f-876c-dbba54d818ad",
         "Astria Dewanti",
         "5",
         "The \"play later\" Promo is annoying. Can't use it anw why u keep display it on my acc.",
         "1",
         "2025-02-23 12:32:42",
         null,
         null,
         "4.32.1",
         "4.32.1"
        ]
       ],
       "shape": {
        "columns": 10,
        "rows": 5
       }
      },
      "text/html": [
       "<div>\n",
       "<style scoped>\n",
       "    .dataframe tbody tr th:only-of-type {\n",
       "        vertical-align: middle;\n",
       "    }\n",
       "\n",
       "    .dataframe tbody tr th {\n",
       "        vertical-align: top;\n",
       "    }\n",
       "\n",
       "    .dataframe thead th {\n",
       "        text-align: right;\n",
       "    }\n",
       "</style>\n",
       "<table border=\"1\" class=\"dataframe\">\n",
       "  <thead>\n",
       "    <tr style=\"text-align: right;\">\n",
       "      <th></th>\n",
       "      <th>reviewId</th>\n",
       "      <th>userName</th>\n",
       "      <th>score</th>\n",
       "      <th>content</th>\n",
       "      <th>thumbsUpCount</th>\n",
       "      <th>at</th>\n",
       "      <th>replyContent</th>\n",
       "      <th>repliedAt</th>\n",
       "      <th>reviewCreatedVersion</th>\n",
       "      <th>appVersion</th>\n",
       "    </tr>\n",
       "  </thead>\n",
       "  <tbody>\n",
       "    <tr>\n",
       "      <th>0</th>\n",
       "      <td>3355d3b0-b9b9-4396-a622-58490ceace56</td>\n",
       "      <td>Ahmed Ali</td>\n",
       "      <td>1</td>\n",
       "      <td>Forgot my airport in his car and I didn't rece...</td>\n",
       "      <td>0</td>\n",
       "      <td>2025-02-23 15:41:08</td>\n",
       "      <td>Hi, Ahmed Ali. To help track your missing item...</td>\n",
       "      <td>2025-02-23 16:07:53</td>\n",
       "      <td>5.10.1</td>\n",
       "      <td>5.10.1</td>\n",
       "    </tr>\n",
       "    <tr>\n",
       "      <th>1</th>\n",
       "      <td>2b380829-bcff-4379-9ada-6677c4d9e152</td>\n",
       "      <td>Rob Machin</td>\n",
       "      <td>5</td>\n",
       "      <td>So far so good</td>\n",
       "      <td>0</td>\n",
       "      <td>2025-02-23 14:04:35</td>\n",
       "      <td>NaN</td>\n",
       "      <td>NaN</td>\n",
       "      <td>5.10.1</td>\n",
       "      <td>5.10.1</td>\n",
       "    </tr>\n",
       "    <tr>\n",
       "      <th>2</th>\n",
       "      <td>74fd2294-0298-43d7-9884-a6574b50e631</td>\n",
       "      <td>Shaaa</td>\n",
       "      <td>5</td>\n",
       "      <td>drivernya cakep hehe</td>\n",
       "      <td>0</td>\n",
       "      <td>2025-02-23 13:12:09</td>\n",
       "      <td>NaN</td>\n",
       "      <td>NaN</td>\n",
       "      <td>5.11.1</td>\n",
       "      <td>5.11.1</td>\n",
       "    </tr>\n",
       "    <tr>\n",
       "      <th>3</th>\n",
       "      <td>451872f2-472a-4696-a6f9-cb5ed515c6b6</td>\n",
       "      <td>arfandi amiruddin</td>\n",
       "      <td>5</td>\n",
       "      <td>Good</td>\n",
       "      <td>0</td>\n",
       "      <td>2025-02-23 12:46:18</td>\n",
       "      <td>NaN</td>\n",
       "      <td>NaN</td>\n",
       "      <td>5.11.1</td>\n",
       "      <td>5.11.1</td>\n",
       "    </tr>\n",
       "    <tr>\n",
       "      <th>4</th>\n",
       "      <td>4cc06441-83b3-4d9f-876c-dbba54d818ad</td>\n",
       "      <td>Astria Dewanti</td>\n",
       "      <td>5</td>\n",
       "      <td>The \"play later\" Promo is annoying. Can't use ...</td>\n",
       "      <td>1</td>\n",
       "      <td>2025-02-23 12:32:42</td>\n",
       "      <td>NaN</td>\n",
       "      <td>NaN</td>\n",
       "      <td>4.32.1</td>\n",
       "      <td>4.32.1</td>\n",
       "    </tr>\n",
       "  </tbody>\n",
       "</table>\n",
       "</div>"
      ],
      "text/plain": [
       "                               reviewId           userName  score  \\\n",
       "0  3355d3b0-b9b9-4396-a622-58490ceace56          Ahmed Ali      1   \n",
       "1  2b380829-bcff-4379-9ada-6677c4d9e152         Rob Machin      5   \n",
       "2  74fd2294-0298-43d7-9884-a6574b50e631              Shaaa      5   \n",
       "3  451872f2-472a-4696-a6f9-cb5ed515c6b6  arfandi amiruddin      5   \n",
       "4  4cc06441-83b3-4d9f-876c-dbba54d818ad     Astria Dewanti      5   \n",
       "\n",
       "                                             content  thumbsUpCount  \\\n",
       "0  Forgot my airport in his car and I didn't rece...              0   \n",
       "1                                     So far so good              0   \n",
       "2                               drivernya cakep hehe              0   \n",
       "3                                               Good              0   \n",
       "4  The \"play later\" Promo is annoying. Can't use ...              1   \n",
       "\n",
       "                    at                                       replyContent  \\\n",
       "0  2025-02-23 15:41:08  Hi, Ahmed Ali. To help track your missing item...   \n",
       "1  2025-02-23 14:04:35                                                NaN   \n",
       "2  2025-02-23 13:12:09                                                NaN   \n",
       "3  2025-02-23 12:46:18                                                NaN   \n",
       "4  2025-02-23 12:32:42                                                NaN   \n",
       "\n",
       "             repliedAt reviewCreatedVersion appVersion  \n",
       "0  2025-02-23 16:07:53               5.10.1     5.10.1  \n",
       "1                  NaN               5.10.1     5.10.1  \n",
       "2                  NaN               5.11.1     5.11.1  \n",
       "3                  NaN               5.11.1     5.11.1  \n",
       "4                  NaN               4.32.1     4.32.1  "
      ]
     },
     "execution_count": 1,
     "metadata": {},
     "output_type": "execute_result"
    }
   ],
   "source": [
    "# Import needed modules\n",
    "import pandas as pd\n",
    "import matplotlib.pyplot as plt\n",
    "import seaborn as sns\n",
    "import numpy as np\n",
    "\n",
    "# Get dataset\n",
    "reviews = pd.read_csv(\"../data/gojek_reviews.csv\")\n",
    "reviews.head()"
   ]
  },
  {
   "cell_type": "markdown",
   "metadata": {},
   "source": [
    "# 1. Explore the dataset"
   ]
  },
  {
   "cell_type": "markdown",
   "metadata": {},
   "source": [
    "### a. Analyze the distribution of review lengths"
   ]
  },
  {
   "cell_type": "code",
   "execution_count": 2,
   "metadata": {},
   "outputs": [
    {
     "data": {
      "image/png": "[encoded data removed]",
      "text/plain": [
       "<Figure size 1000x500 with 1 Axes>"
      ]
     },
     "metadata": {},
     "output_type": "display_data"
    },
    {
     "data": {
      "image/png": "[encoded data removed]",
      "text/plain": [
       "<Figure size 800x400 with 1 Axes>"
      ]
     },
     "metadata": {},
     "output_type": "display_data"
    }
   ],
   "source": [
    "# Add a column for word count\n",
    "reviews['word_count'] = reviews['content'].apply(lambda x: len(str(x).split()))\n",
    "\n",
    "# Histogram to visualize distribution\n",
    "plt.figure(figsize=(10, 5))\n",
    "sns.histplot(reviews['word_count'], bins=50, kde=True)\n",
    "plt.xlabel(\"No. of Words in Review\")\n",
    "plt.ylabel(\"Frequency\")\n",
    "plt.title(\"Distribution of Review Lengths\")\n",
    "plt.show()\n",
    "\n",
    "# Boxplot to detect outliers\n",
    "plt.figure(figsize=(8, 4))\n",
    "sns.boxplot(x=reviews['word_count'])\n",
    "plt.xlabel(\"No. of Words in Review\")\n",
    "plt.title(\"Boxplot of Review Lengths\")\n",
    "plt.show()"
   ]
  },
  {
   "cell_type": "markdown",
   "metadata": {},
   "source": [
    "The histogram shows a strong right-skewed distribution, meaning most reviews are very short, but the boxplot tells us that there are also many outliers (long reviews)."
   ]
  },
  {
   "cell_type": "markdown",
   "metadata": {},
   "source": [
    "### b. Identify common words and phrases used in reviews"
   ]
  },
  {
   "cell_type": "code",
   "execution_count": 3,
   "metadata": {},
   "outputs": [
    {
     "name": "stderr",
     "output_type": "stream",
     "text": [
      "C:\\Users\\fireb\\AppData\\Local\\Temp\\ipykernel_17104\\593663789.py:17: FutureWarning: \n",
      "\n",
      "Passing `palette` without assigning `hue` is deprecated and will be removed in v0.14.0. Assign the `y` variable to `hue` and set `legend=False` for the same effect.\n",
      "\n",
      "  sns.barplot(x=list(counts), y=list(words), palette=\"viridis\")\n"
     ]
    },
    {
     "data": {
      "image/png": "[encoded data removed]",
      "text/plain": [
       "<Figure size 1200x600 with 1 Axes>"
      ]
     },
     "metadata": {},
     "output_type": "display_data"
    }
   ],
   "source": [
    "from collections import Counter\n",
    "\n",
    "# Join all reviews into one string\n",
    "all_words = ' '.join(reviews['content'].astype(str)).split()\n",
    "\n",
    "# Count frequency of each word\n",
    "word_freq = Counter(all_words)\n",
    "\n",
    "# Get top 20\n",
    "most_common_words = word_freq.most_common(20)\n",
    "\n",
    "# Seperate the words and their frequencies\n",
    "words, counts = zip(*most_common_words)\n",
    "\n",
    "# Plot bar chart\n",
    "plt.figure(figsize=(12, 6))\n",
    "sns.barplot(x=list(counts), y=list(words), palette=\"viridis\")\n",
    "plt.xlabel(\"Word Count\")\n",
    "plt.ylabel(\"Word\")\n",
    "plt.title(\"Top 20 Most Frequent Words in Raw Reviews\")\n",
    "plt.show()"
   ]
  },
  {
   "cell_type": "markdown",
   "metadata": {},
   "source": [
    "### c. Visualize word frequency distributions"
   ]
  },
  {
   "cell_type": "code",
   "execution_count": 4,
   "metadata": {},
   "outputs": [
    {
     "ename": "ModuleNotFoundError",
     "evalue": "No module named 'wordcloud'",
     "output_type": "error",
     "traceback": [
      "\u001b[1;31m---------------------------------------------------------------------------\u001b[0m",
      "\u001b[1;31mModuleNotFoundError\u001b[0m                       Traceback (most recent call last)",
      "Cell \u001b[1;32mIn[4], line 1\u001b[0m\n\u001b[1;32m----> 1\u001b[0m \u001b[38;5;28;01mfrom\u001b[39;00m \u001b[38;5;21;01mwordcloud\u001b[39;00m \u001b[38;5;28;01mimport\u001b[39;00m WordCloud\n\u001b[0;32m      3\u001b[0m \u001b[38;5;66;03m# Creates word cloud based on word frequency\u001b[39;00m\n\u001b[0;32m      4\u001b[0m wordcloud \u001b[38;5;241m=\u001b[39m WordCloud(width\u001b[38;5;241m=\u001b[39m\u001b[38;5;241m800\u001b[39m, height\u001b[38;5;241m=\u001b[39m\u001b[38;5;241m400\u001b[39m, background_color\u001b[38;5;241m=\u001b[39m\u001b[38;5;124m\"\u001b[39m\u001b[38;5;124mwhite\u001b[39m\u001b[38;5;124m\"\u001b[39m)\u001b[38;5;241m.\u001b[39mgenerate(\u001b[38;5;124m'\u001b[39m\u001b[38;5;124m \u001b[39m\u001b[38;5;124m'\u001b[39m\u001b[38;5;241m.\u001b[39mjoin(all_words))\n",
      "\u001b[1;31mModuleNotFoundError\u001b[0m: No module named 'wordcloud'"
     ]
    }
   ],
   "source": [
    "from wordcloud import WordCloud\n",
    "\n",
    "# Creates word cloud based on word frequency\n",
    "wordcloud = WordCloud(width=800, height=400, background_color=\"white\").generate(' '.join(all_words))\n",
    "\n",
    "plt.figure(figsize=(10, 5))\n",
    "plt.imshow(wordcloud, interpolation=\"bilinear\")\n",
    "plt.axis(\"off\")\n",
    "plt.title(\"Most Frequent Words\")\n",
    "plt.show()\n"
   ]
  },
  {
   "cell_type": "markdown",
   "metadata": {},
   "source": [
    "# 2. Clean and preprocess text data"
   ]
  },
  {
   "cell_type": "markdown",
   "metadata": {},
   "source": [
    "### a. Convert text to lowercase"
   ]
  },
  {
   "cell_type": "code",
   "execution_count": null,
   "metadata": {},
   "outputs": [],
   "source": [
    "# Convert review content to lowercase\n",
    "reviews['content'] = reviews['content'].str.lower()"
   ]
  },
  {
   "cell_type": "markdown",
   "metadata": {},
   "source": [
    "### b. Remove stop words, punctuation, and special characters"
   ]
  },
  {
   "cell_type": "code",
   "execution_count": null,
   "metadata": {},
   "outputs": [
    {
     "name": "stderr",
     "output_type": "stream",
     "text": [
      "[nltk_data] Downloading package stopwords to\n",
      "[nltk_data]     /home/codespace/nltk_data...\n",
      "[nltk_data]   Package stopwords is already up-to-date!\n"
     ]
    }
   ],
   "source": [
    "# Remove punctuation and special characters\n",
    "import re\n",
    "reviews['content'] = reviews['content'].apply(lambda x: re.sub(r'[^\\w\\s]', '', str(x)) if isinstance(x, str) else x)\n",
    "\n",
    "# Remove stopwords\n",
    "import nltk\n",
    "from nltk.corpus import stopwords\n",
    "nltk.download('stopwords')\n",
    "\n",
    "# Load English stopwords\n",
    "english_stopwords = set(stopwords.words('english')) \n",
    "\n",
    "# Load Indonesian stopwords\n",
    "id_stopwords_path = \"../data/id_stopwords.txt\"\n",
    "id_stopwords = set()\n",
    "\n",
    "with open(id_stopwords_path, 'r') as file:\n",
    "    for line in file:\n",
    "        id_stopwords.add(line.strip())\n",
    "\n",
    "# Combine English & Indonesian stopwords\n",
    "all_stopwords = english_stopwords.union(id_stopwords)\n",
    "\n",
    "def remove_stopwords(text):\n",
    "    if isinstance(text,str):\n",
    "        words = text.split()\n",
    "        filtered_words = [word for word in words if word not in all_stopwords]\n",
    "        return ' '.join(filtered_words)\n",
    "    return text\n",
    "\n",
    "reviews['content'] = reviews['content'].apply(remove_stopwords)\n",
    "reviews.dropna(subset=['content'], inplace=True)"
   ]
  },
  {
   "cell_type": "markdown",
   "metadata": {},
   "source": [
    "### c. Tokenization and stemming/lemmatization"
   ]
  },
  {
   "cell_type": "code",
   "execution_count": null,
   "metadata": {},
   "outputs": [
    {
     "name": "stderr",
     "output_type": "stream",
     "text": [
      "[nltk_data] Downloading package wordnet to\n",
      "[nltk_data]     /home/codespace/nltk_data...\n",
      "[nltk_data]   Package wordnet is already up-to-date!\n"
     ]
    }
   ],
   "source": [
    "# Lemmatize words\n",
    "from nltk.stem import WordNetLemmatizer\n",
    "nltk.download('wordnet')\n",
    "lemmatizer = WordNetLemmatizer()\n",
    "\n",
    "reviews['lemmatized_content'] = reviews['content'].apply(lambda x: ' '.join([lemmatizer.lemmatize(word) for word in x.split()]))"
   ]
  },
  {
   "cell_type": "markdown",
   "metadata": {},
   "source": [
    "### d. Handle duplicate or noisy data"
   ]
  },
  {
   "cell_type": "code",
   "execution_count": null,
   "metadata": {},
   "outputs": [
    {
     "name": "stdout",
     "output_type": "stream",
     "text": [
      "Original dataset shape: (10000, 12)\n",
      "Found 1816 duplicate reviews\n",
      "Removing 413 very short reviews (less than 2 words)\n",
      "\n",
      "Missing values in each column:\n",
      "reviewId                   0\n",
      "userName                   2\n",
      "score                      0\n",
      "content                    0\n",
      "thumbsUpCount              0\n",
      "at                         0\n",
      "replyContent            3111\n",
      "repliedAt               3111\n",
      "reviewCreatedVersion    1184\n",
      "appVersion              1184\n",
      "word_count                 0\n",
      "lemmatized_content         0\n",
      "dtype: int64\n",
      "\n",
      "Cleaned dataset shape: (7771, 12)\n"
     ]
    },
    {
     "data": {
      "text/html": [
       "<div>\n",
       "<style scoped>\n",
       "    .dataframe tbody tr th:only-of-type {\n",
       "        vertical-align: middle;\n",
       "    }\n",
       "\n",
       "    .dataframe tbody tr th {\n",
       "        vertical-align: top;\n",
       "    }\n",
       "\n",
       "    .dataframe thead th {\n",
       "        text-align: right;\n",
       "    }\n",
       "</style>\n",
       "<table border=\"1\" class=\"dataframe\">\n",
       "  <thead>\n",
       "    <tr style=\"text-align: right;\">\n",
       "      <th></th>\n",
       "      <th>reviewId</th>\n",
       "      <th>userName</th>\n",
       "      <th>score</th>\n",
       "      <th>content</th>\n",
       "      <th>thumbsUpCount</th>\n",
       "      <th>at</th>\n",
       "      <th>replyContent</th>\n",
       "      <th>repliedAt</th>\n",
       "      <th>reviewCreatedVersion</th>\n",
       "      <th>appVersion</th>\n",
       "      <th>word_count</th>\n",
       "      <th>lemmatized_content</th>\n",
       "    </tr>\n",
       "  </thead>\n",
       "  <tbody>\n",
       "    <tr>\n",
       "      <th>0</th>\n",
       "      <td>3355d3b0-b9b9-4396-a622-58490ceace56</td>\n",
       "      <td>Ahmed Ali</td>\n",
       "      <td>1</td>\n",
       "      <td>forgot airport car didnt receive infofollow dr...</td>\n",
       "      <td>0</td>\n",
       "      <td>2025-02-23 15:41:08</td>\n",
       "      <td>Hi, Ahmed Ali. To help track your missing item...</td>\n",
       "      <td>2025-02-23 16:07:53</td>\n",
       "      <td>5.10.1</td>\n",
       "      <td>5.10.1</td>\n",
       "      <td>9</td>\n",
       "      <td>forgot airport car didnt receive infofollow dr...</td>\n",
       "    </tr>\n",
       "    <tr>\n",
       "      <th>1</th>\n",
       "      <td>2b380829-bcff-4379-9ada-6677c4d9e152</td>\n",
       "      <td>Rob Machin</td>\n",
       "      <td>5</td>\n",
       "      <td>far good</td>\n",
       "      <td>0</td>\n",
       "      <td>2025-02-23 14:04:35</td>\n",
       "      <td>Hai Kak, mohon maaf atas ketidaknyamanannya. K...</td>\n",
       "      <td>2017-10-01 19:44:44</td>\n",
       "      <td>5.10.1</td>\n",
       "      <td>5.10.1</td>\n",
       "      <td>2</td>\n",
       "      <td>far good</td>\n",
       "    </tr>\n",
       "    <tr>\n",
       "      <th>2</th>\n",
       "      <td>74fd2294-0298-43d7-9884-a6574b50e631</td>\n",
       "      <td>Shaaa</td>\n",
       "      <td>5</td>\n",
       "      <td>drivernya cakep hehe</td>\n",
       "      <td>0</td>\n",
       "      <td>2025-02-23 13:12:09</td>\n",
       "      <td>Hai Kak, mohon maaf atas ketidaknyamanannya. K...</td>\n",
       "      <td>2017-10-01 19:44:44</td>\n",
       "      <td>5.11.1</td>\n",
       "      <td>5.11.1</td>\n",
       "      <td>3</td>\n",
       "      <td>drivernya cakep hehe</td>\n",
       "    </tr>\n",
       "    <tr>\n",
       "      <th>4</th>\n",
       "      <td>4cc06441-83b3-4d9f-876c-dbba54d818ad</td>\n",
       "      <td>Astria Dewanti</td>\n",
       "      <td>5</td>\n",
       "      <td>play later promo annoying cant use anw u keep ...</td>\n",
       "      <td>1</td>\n",
       "      <td>2025-02-23 12:32:42</td>\n",
       "      <td>Hai Kak, mohon maaf atas ketidaknyamanannya. K...</td>\n",
       "      <td>2017-10-01 19:44:44</td>\n",
       "      <td>4.32.1</td>\n",
       "      <td>4.32.1</td>\n",
       "      <td>11</td>\n",
       "      <td>play later promo annoying cant use anw u keep ...</td>\n",
       "    </tr>\n",
       "    <tr>\n",
       "      <th>5</th>\n",
       "      <td>ac4fed4e-7bf4-4677-b973-98f4d3c9df0f</td>\n",
       "      <td>Husen Badrutamam</td>\n",
       "      <td>1</td>\n",
       "      <td>jelek banget kelakuan drivernya ambil orderan ...</td>\n",
       "      <td>0</td>\n",
       "      <td>2025-02-23 10:36:21</td>\n",
       "      <td>Hai Kak Husen, mohon maaf atas ketidaknyamanan...</td>\n",
       "      <td>2025-02-23 11:01:14</td>\n",
       "      <td>5.10.1</td>\n",
       "      <td>5.10.1</td>\n",
       "      <td>16</td>\n",
       "      <td>jelek banget kelakuan drivernya ambil orderan ...</td>\n",
       "    </tr>\n",
       "  </tbody>\n",
       "</table>\n",
       "</div>"
      ],
      "text/plain": [
       "                               reviewId          userName  score  \\\n",
       "0  3355d3b0-b9b9-4396-a622-58490ceace56         Ahmed Ali      1   \n",
       "1  2b380829-bcff-4379-9ada-6677c4d9e152        Rob Machin      5   \n",
       "2  74fd2294-0298-43d7-9884-a6574b50e631             Shaaa      5   \n",
       "4  4cc06441-83b3-4d9f-876c-dbba54d818ad    Astria Dewanti      5   \n",
       "5  ac4fed4e-7bf4-4677-b973-98f4d3c9df0f  Husen Badrutamam      1   \n",
       "\n",
       "                                             content  thumbsUpCount  \\\n",
       "0  forgot airport car didnt receive infofollow dr...              0   \n",
       "1                                           far good              0   \n",
       "2                               drivernya cakep hehe              0   \n",
       "4  play later promo annoying cant use anw u keep ...              1   \n",
       "5  jelek banget kelakuan drivernya ambil orderan ...              0   \n",
       "\n",
       "                    at                                       replyContent  \\\n",
       "0  2025-02-23 15:41:08  Hi, Ahmed Ali. To help track your missing item...   \n",
       "1  2025-02-23 14:04:35  Hai Kak, mohon maaf atas ketidaknyamanannya. K...   \n",
       "2  2025-02-23 13:12:09  Hai Kak, mohon maaf atas ketidaknyamanannya. K...   \n",
       "4  2025-02-23 12:32:42  Hai Kak, mohon maaf atas ketidaknyamanannya. K...   \n",
       "5  2025-02-23 10:36:21  Hai Kak Husen, mohon maaf atas ketidaknyamanan...   \n",
       "\n",
       "             repliedAt reviewCreatedVersion appVersion  word_count  \\\n",
       "0  2025-02-23 16:07:53               5.10.1     5.10.1           9   \n",
       "1  2017-10-01 19:44:44               5.10.1     5.10.1           2   \n",
       "2  2017-10-01 19:44:44               5.11.1     5.11.1           3   \n",
       "4  2017-10-01 19:44:44               4.32.1     4.32.1          11   \n",
       "5  2025-02-23 11:01:14               5.10.1     5.10.1          16   \n",
       "\n",
       "                                  lemmatized_content  \n",
       "0  forgot airport car didnt receive infofollow dr...  \n",
       "1                                           far good  \n",
       "2                               drivernya cakep hehe  \n",
       "4  play later promo annoying cant use anw u keep ...  \n",
       "5  jelek banget kelakuan drivernya ambil orderan ...  "
      ]
     },
     "execution_count": 10,
     "metadata": {},
     "output_type": "execute_result"
    }
   ],
   "source": [
    "# Handle duplicate and noisy data\n",
    "print(f\"Original dataset shape: {reviews.shape}\")\n",
    "\n",
    "# Check and remove duplicates\n",
    "duplicate_count = reviews.duplicated(subset=['content']).sum()\n",
    "print(f\"Found {duplicate_count} duplicate reviews\")\n",
    "reviews = reviews.drop_duplicates(subset=['content'])\n",
    "\n",
    "# Remove very short reviews (likely noise)\n",
    "reviews['word_count'] = reviews['content'].apply(lambda x: len(str(x).split()))\n",
    "short_reviews = reviews[reviews['word_count'] < 2].shape[0]\n",
    "print(f\"Removing {short_reviews} very short reviews (less than 2 words)\")\n",
    "reviews = reviews[reviews['word_count'] >= 2]\n",
    "\n",
    "# Handle missing values in any other columns\n",
    "missing_values = reviews.isnull().sum()\n",
    "print(\"\\nMissing values in each column:\")\n",
    "print(missing_values)\n",
    "\n",
    "# Fill missing numerical values with median (if any)\n",
    "numerical_cols = reviews.select_dtypes(include=['int64', 'float64']).columns\n",
    "for col in numerical_cols:\n",
    "    if reviews[col].isnull().sum() > 0:\n",
    "        reviews[col] = reviews[col].fillna(reviews[col].median())\n",
    "\n",
    "# Fill missing categorical/text values with mode (if any)\n",
    "categorical_cols = reviews.select_dtypes(include=['object']).columns\n",
    "for col in categorical_cols:\n",
    "    if col != 'content' and col != 'lemmatized_content' and reviews[col].isnull().sum() > 0:\n",
    "        reviews[col] = reviews[col].fillna(reviews[col].mode()[0])\n",
    "\n",
    "# Check for outliers in rating (if present)\n",
    "if 'rating' in reviews.columns:\n",
    "    print(\"\\nRating distribution:\")\n",
    "    print(reviews['rating'].value_counts())\n",
    "    \n",
    "    # Check if there are invalid ratings outside expected range (e.g., 1-5)\n",
    "    invalid_ratings = reviews[(reviews['rating'] < 1) | (reviews['rating'] > 5)].shape[0]\n",
    "    if invalid_ratings > 0:\n",
    "        print(f\"Found {invalid_ratings} reviews with invalid ratings\")\n",
    "        # Remove or fix invalid ratings\n",
    "        reviews = reviews[(reviews['rating'] >= 1) & (reviews['rating'] <= 5)]\n",
    "\n",
    "print(f\"\\nCleaned dataset shape: {reviews.shape}\")\n",
    "reviews.head()"
   ]
  },
  {
   "cell_type": "markdown",
   "metadata": {},
   "source": [
    "# 3. Topic Modelling"
   ]
  },
  {
   "cell_type": "markdown",
   "metadata": {},
   "source": [
    "### a. Use algorithms to identify key topics"
   ]
  },
  {
   "cell_type": "markdown",
   "metadata": {},
   "source": [
    "#### Using Latent Dirichlet Allocation (LDA)"
   ]
  },
  {
   "cell_type": "code",
   "execution_count": null,
   "metadata": {},
   "outputs": [
    {
     "name": "stderr",
     "output_type": "stream",
     "text": [
      "[nltk_data] Downloading package punkt to /home/codespace/nltk_data...\n",
      "[nltk_data]   Package punkt is already up-to-date!\n",
      "[nltk_data] Downloading package punkt_tab to\n",
      "[nltk_data]     /home/codespace/nltk_data...\n",
      "[nltk_data]   Package punkt_tab is already up-to-date!\n"
     ]
    },
    {
     "data": {
      "text/plain": [
       "[(0,\n",
       "  '0.011*\"ok\" + 0.009*\"mantap\" + 0.008*\"pin\" + 0.008*\"meow\" + 0.006*\"customer\" + 0.004*\"gojek\" + 0.004*\"sigma\" + 0.004*\"easier\" + 0.004*\"go\" + 0.003*\"server\"'),\n",
       " (1,\n",
       "  '0.034*\"driver\" + 0.023*\"app\" + 0.013*\"gojek\" + 0.012*\"time\" + 0.011*\"good\" + 0.011*\"order\" + 0.011*\"service\" + 0.008*\"get\" + 0.007*\"use\" + 0.007*\"even\"'),\n",
       " (2,\n",
       "  '0.044*\"driver\" + 0.017*\"gojek\" + 0.014*\"banget\" + 0.011*\"drivernya\" + 0.010*\"aplikasi\" + 0.010*\"gocar\" + 0.010*\"cancel\" + 0.009*\"susah\" + 0.009*\"dapet\" + 0.009*\"gofood\"'),\n",
       " (3,\n",
       "  '0.033*\"driver\" + 0.016*\"cancel\" + 0.013*\"aplikasi\" + 0.012*\"c\" + 0.012*\"order\" + 0.010*\"chat\" + 0.010*\"pesanan\" + 0.010*\"gofood\" + 0.010*\"customer\" + 0.010*\"gojek\"'),\n",
       " (4,\n",
       "  '0.024*\"gojek\" + 0.019*\"gopay\" + 0.019*\"aplikasi\" + 0.011*\"promo\" + 0.010*\"bayar\" + 0.008*\"pakai\" + 0.007*\"plus\" + 0.007*\"pake\" + 0.007*\"mahal\" + 0.006*\"beli\"')]"
      ]
     },
     "execution_count": 11,
     "metadata": {},
     "output_type": "execute_result"
    }
   ],
   "source": [
    "import gensim\n",
    "import gensim.corpora as corpora\n",
    "from gensim.models.ldamodel import LdaModel\n",
    "from gensim.models import CoherenceModel\n",
    "from nltk.tokenize import word_tokenize\n",
    "import pyLDAvis\n",
    "import pyLDAvis.gensim_models as gensimvis\n",
    "import matplotlib.pyplot as plt\n",
    "import nltk\n",
    "nltk.download('punkt')\n",
    "nltk.download('punkt_tab')\n",
    "\n",
    "# Convert each review into a list of words\n",
    "reviews_tokenized = reviews['lemmatized_content'].astype(str).apply(word_tokenize)\n",
    "\n",
    "# Assign unique ID to each word\n",
    "id2word = corpora.Dictionary(reviews_tokenized)\n",
    "\n",
    "# Convert words to Bag-of-Words format\n",
    "corpus = [id2word.doc2bow(text) for text in reviews_tokenized]\n",
    "\n",
    "# No. of topics we want to check\n",
    "num_topics = 5  \n",
    "\n",
    "# Train the model\n",
    "trained_lda_model = LdaModel(corpus=corpus, \n",
    "                     id2word=id2word, \n",
    "                     num_topics=num_topics, \n",
    "                     random_state=42,\n",
    "                     passes=10,\n",
    "                     alpha='auto',\n",
    "                     per_word_topics=True)\n",
    "\n",
    "# Print top words of each topic\n",
    "trained_lda_model.print_topics()\n"
   ]
  },
  {
   "cell_type": "markdown",
   "metadata": {},
   "source": [
    "### Using Non-Negative Matrix Factorization (NMF)"
   ]
  },
  {
   "cell_type": "code",
   "execution_count": null,
   "metadata": {},
   "outputs": [
    {
     "name": "stdout",
     "output_type": "stream",
     "text": [
      "1:\n",
      "driver + cancel + order + susah + dapet + gocar + nunggu + jam + banget + gofood\n",
      "2:\n",
      "good + service + application + far + apps + job + fast + thanks + great + easy\n",
      "3:\n",
      "aplikasi + membantu + bagus + banget + sampah + terima + pakai + makanan + update + gopay\n",
      "4:\n",
      "app + great + use + easy + best + helpful + nice + time + bad + love\n",
      "5:\n",
      "gojek + promo + pake + plus + mahal + gofood + ya + pakai + gopay + drivernya\n"
     ]
    }
   ],
   "source": [
    "from sklearn.feature_extraction.text import TfidfVectorizer\n",
    "from sklearn.decomposition import NMF\n",
    "\n",
    "documents = reviews_tokenized.apply(lambda x: ' '.join(x)).tolist()\n",
    "\n",
    "# Transform text to TF-IDF representation\n",
    "vectorizer = TfidfVectorizer(max_df=0.95, min_df=2, stop_words='english')\n",
    "tfidf = vectorizer.fit_transform(documents)\n",
    "\n",
    "# Get feature names\n",
    "tfidf_feature_names = vectorizer.get_feature_names_out()\n",
    "\n",
    "# Train the model\n",
    "nmf_model = NMF(n_components=num_topics, random_state=42)\n",
    "nmf_W = nmf_model.fit_transform(tfidf) \n",
    "nmf_H = nmf_model.components_  \n",
    "\n",
    "# Print top words of each topic\n",
    "for topic_idx, topic in enumerate(nmf_model.components_):\n",
    "    print(f\"{topic_idx+1}:\")\n",
    "    print(\" + \".join([tfidf_feature_names[i] for i in topic.argsort()[:-10 - 1:-1]]))\n"
   ]
  },
  {
   "cell_type": "markdown",
   "metadata": {},
   "source": [
    "#### Using BERTopics"
   ]
  },
  {
   "cell_type": "code",
   "execution_count": null,
   "metadata": {},
   "outputs": [
    {
     "name": "stderr",
     "output_type": "stream",
     "text": [
      "2025-03-28 16:09:17,230 - BERTopic - Embedding - Transforming documents to embeddings.\n"
     ]
    },
    {
     "data": {
      "application/vnd.jupyter.widget-view+json": {
       "model_id": "512928d2b0a948a2a602009638b461a9",
       "version_major": 2,
       "version_minor": 0
      },
      "text/plain": [
       "Batches:   0%|          | 0/243 [00:00<?, ?it/s]"
      ]
     },
     "metadata": {},
     "output_type": "display_data"
    },
    {
     "name": "stderr",
     "output_type": "stream",
     "text": [
      "2025-03-28 16:09:38,383 - BERTopic - Embedding - Completed ✓\n",
      "2025-03-28 16:09:38,384 - BERTopic - Dimensionality - Fitting the dimensionality reduction algorithm\n",
      "2025-03-28 16:09:41,153 - BERTopic - Dimensionality - Completed ✓\n",
      "2025-03-28 16:09:41,155 - BERTopic - Cluster - Start clustering the reduced embeddings\n",
      "2025-03-28 16:09:42,894 - BERTopic - Cluster - Completed ✓\n",
      "2025-03-28 16:09:42,897 - BERTopic - Representation - Extracting topics from clusters using representation models.\n",
      "2025-03-28 16:09:42,977 - BERTopic - Representation - Completed ✓\n",
      "2025-03-28 16:09:43,065 - BERTopic - Topic reduction - Reducing number of topics\n",
      "2025-03-28 16:09:43,115 - BERTopic - Topic reduction - Reduced number of topics from 106 to 5\n"
     ]
    },
    {
     "name": "stdout",
     "output_type": "stream",
     "text": [
      "1:\n",
      "gojek + promo + service + gopay + good + customer + banget + gofood + mahal + driver\n",
      "2:\n",
      "driver + gojek + map + drivernya + rating + cancel + app + gocar + titik + time\n",
      "3:\n",
      "app + order + aplikasi + cancel + driver + apps + chat + food + cant + login\n",
      "4:\n",
      "dark + mode + gelap + darkmode + theme + add + gojek + mata + terang + app\n"
     ]
    }
   ],
   "source": [
    "from bertopic import BERTopic\n",
    "from sklearn.feature_extraction.text import CountVectorizer\n",
    "\n",
    "# Train the model\n",
    "bertopic_model = BERTopic(language=\"multilingual\", calculate_probabilities=True, verbose=True)\n",
    "topics, probs = bertopic_model.fit_transform(documents)\n",
    "bertopic_model.reduce_topics(documents, nr_topics=num_topics)   # Reduce to no. of topics we want \n",
    "\n",
    "# Print top words of each topic\n",
    "for topic_num in range(4):  \n",
    "    topic = bertopic_model.get_topic(topic_num)\n",
    "    print(f\"{topic_num+1}:\")\n",
    "    print(\" + \".join([word for word, _ in topic]))\n"
   ]
  },
  {
   "cell_type": "markdown",
   "metadata": {},
   "source": [
    "### b. Determine the optimal number of topics using coherence scores or topic coherence visualization"
   ]
  },
  {
   "cell_type": "markdown",
   "metadata": {},
   "source": [
    "#### 1) By Coherence Visualization"
   ]
  },
  {
   "cell_type": "code",
   "execution_count": null,
   "metadata": {},
   "outputs": [
    {
     "data": {
      "image/png": "[encoded data removed]",
      "text/plain": [
       "<Figure size 1000x600 with 1 Axes>"
      ]
     },
     "metadata": {},
     "output_type": "display_data"
    }
   ],
   "source": [
    "from gensim.models import CoherenceModel, LdaModel\n",
    "import os\n",
    "\n",
    "os.environ[\"TOKENIZERS_PARALLELISM\"] = \"false\"\n",
    "\n",
    "texts = reviews_tokenized.tolist()\n",
    "topic_range = range(2, 11)      # Tests 2 to 10 topics\n",
    "\n",
    "\n",
    "# LDA Coherence Scores\n",
    "coherence_scores_lda = []\n",
    "for num_topics in topic_range:\n",
    "    # Generate LDA model for each no. of topics\n",
    "    lda_model = LdaModel(       \n",
    "        corpus=corpus,\n",
    "        id2word=id2word,\n",
    "        num_topics=num_topics,\n",
    "        random_state=42,\n",
    "        passes=10,\n",
    "        alpha=\"auto\",\n",
    "        per_word_topics=True,\n",
    "    )\n",
    "\n",
    "    coherence_model_lda = CoherenceModel(\n",
    "        model=lda_model, texts=reviews_tokenized.tolist(), dictionary=id2word, coherence=\"c_v\"\n",
    "    )\n",
    "    coherence_scores_lda.append(coherence_model_lda.get_coherence())\n",
    "\n",
    "\n",
    "# NMF Coherence Scores\n",
    "coherence_scores_nmf = []\n",
    "for num_topics in topic_range:\n",
    "    # Generate NMF model for each no. of topics\n",
    "    nmf_model = NMF(n_components=num_topics, random_state=42)\n",
    "    nmf_W = nmf_model.fit_transform(tfidf)\n",
    "\n",
    "    nmf_topics = [[tfidf_feature_names[i] for i in topic.argsort()[:-10 - 1:-1]] for topic in nmf_model.components_]\n",
    "\n",
    "    coherence_model_nmf = CoherenceModel(topics=nmf_topics, texts=texts, dictionary=id2word, coherence='c_v')\n",
    "    coherence_scores_nmf.append(coherence_model_nmf.get_coherence())\n",
    "\n",
    "\n",
    "# BERTopic Coherence Scores\n",
    "bertopic_model = BERTopic(language=\"multilingual\", calculate_probabilities=True, verbose=False)\n",
    "topics, _ = bertopic_model.fit_transform(documents)\n",
    "coherence_scores_bertopic = []\n",
    "for num_topics in topic_range:\n",
    "    # Generate LDA model for each no. of topics\n",
    "    bertopic_topics = [bertopic_model.get_topic(i) for i in range(num_topics) if bertopic_model.get_topic(i)]\n",
    "    bertopic_topics = [[word for word, _ in topic] for topic in bertopic_topics]\n",
    "\n",
    "    coherence_model_bertopic = CoherenceModel(topics=bertopic_topics, texts=texts, dictionary=id2word, coherence=\"c_v\")\n",
    "    coherence_scores_bertopic.append(coherence_model_bertopic.get_coherence())\n",
    "\n",
    "\n",
    "# Plot results\n",
    "plt.figure(figsize=(10, 6))\n",
    "\n",
    "plt.plot(topic_range, coherence_scores_lda, marker=\"o\", linestyle=\"-\", label=\"LDA\", color=\"blue\")\n",
    "plt.plot(topic_range, coherence_scores_nmf, marker=\"s\", linestyle=\"--\", label=\"NMF\", color=\"red\")\n",
    "plt.plot(topic_range, coherence_scores_bertopic, marker=\"^\", linestyle=\"-.\", label=\"BERTopic\", color=\"green\")\n",
    "\n",
    "plt.xlabel(\"No. of Topics\")\n",
    "plt.ylabel(\"Coherence Score\")\n",
    "plt.title(\"Comparison of Optimal Number of Topics Across Models\")\n",
    "plt.legend()\n",
    "plt.show()\n"
   ]
  },
  {
   "cell_type": "markdown",
   "metadata": {},
   "source": [
    "Based on the plotting, we select 5 topics as it provides a balance between coherence and interpretability across LDA, NMF, and BERTopic. Among these models, LDA consistently achieves the highest coherence scores, making it the most effective topic modeling approach for our dataset. Therefore, we will proceed with hyperparameter tuning for LDA to further optimize its performance."
   ]
  },
  {
   "cell_type": "markdown",
   "metadata": {},
   "source": [
    "#### 2) Hyperparameter Tuning The Best Model (LDA)"
   ]
  },
  {
   "cell_type": "markdown",
   "metadata": {},
   "source": [
    "Tune LDA using optuna to find best tuned parameters"
   ]
  },
  {
   "cell_type": "code",
   "execution_count": null,
   "metadata": {},
   "outputs": [
    {
     "name": "stderr",
     "output_type": "stream",
     "text": [
      "[I 2025-03-28 16:12:27,584] A new study created in memory with name: no-name-a26a2a35-96cb-445c-9285-3ec859f74673\n",
      "[I 2025-03-28 16:12:34,331] Trial 0 finished with value: 0.536743530300744 and parameters: {'alpha': 'symmetric', 'eta': 'symmetric', 'passes': 5}. Best is trial 0 with value: 0.536743530300744.\n",
      "[I 2025-03-28 16:12:43,464] Trial 1 finished with value: 0.5434855804314316 and parameters: {'alpha': 'symmetric', 'eta': 'auto', 'passes': 10}. Best is trial 1 with value: 0.5434855804314316.\n",
      "[I 2025-03-28 16:12:50,095] Trial 2 finished with value: 0.536743530300744 and parameters: {'alpha': 'symmetric', 'eta': 'symmetric', 'passes': 5}. Best is trial 1 with value: 0.5434855804314316.\n",
      "[I 2025-03-28 16:12:58,320] Trial 3 finished with value: 0.5386908359343003 and parameters: {'alpha': 'asymmetric', 'eta': 'symmetric', 'passes': 10}. Best is trial 1 with value: 0.5434855804314316.\n",
      "[I 2025-03-28 16:13:05,228] Trial 4 finished with value: 0.536743530300744 and parameters: {'alpha': 'symmetric', 'eta': 'auto', 'passes': 5}. Best is trial 1 with value: 0.5434855804314316.\n",
      "[I 2025-03-28 16:13:16,534] Trial 5 finished with value: 0.5575238536214325 and parameters: {'alpha': 'auto', 'eta': 'auto', 'passes': 15}. Best is trial 5 with value: 0.5575238536214325.\n",
      "[I 2025-03-28 16:13:24,873] Trial 6 finished with value: 0.5386908359343003 and parameters: {'alpha': 'asymmetric', 'eta': 'auto', 'passes': 10}. Best is trial 5 with value: 0.5575238536214325.\n",
      "[I 2025-03-28 16:13:36,802] Trial 7 finished with value: 0.541875739526622 and parameters: {'alpha': 'asymmetric', 'eta': 'symmetric', 'passes': 20}. Best is trial 5 with value: 0.5575238536214325.\n",
      "[I 2025-03-28 16:13:45,674] Trial 8 finished with value: 0.5402284722249381 and parameters: {'alpha': 'auto', 'eta': 'auto', 'passes': 10}. Best is trial 5 with value: 0.5575238536214325.\n",
      "[I 2025-03-28 16:13:58,819] Trial 9 finished with value: 0.5688459324907732 and parameters: {'alpha': 'auto', 'eta': 'symmetric', 'passes': 20}. Best is trial 9 with value: 0.5688459324907732.\n"
     ]
    },
    {
     "name": "stdout",
     "output_type": "stream",
     "text": [
      "Best LDA Parameters: {'alpha': 'auto', 'eta': 'symmetric', 'passes': 20}\n",
      "Best LDA Coherence Score: 0.5688459324907732\n"
     ]
    }
   ],
   "source": [
    "import optuna\n",
    "\n",
    "def lda_objective(trial):\n",
    "    # Hyperparameters\n",
    "    alpha = trial.suggest_categorical(\"alpha\", [\"symmetric\", \"asymmetric\", \"auto\"])\n",
    "    eta = trial.suggest_categorical(\"eta\", [\"symmetric\", \"auto\"])\n",
    "    passes = trial.suggest_int(\"passes\", 5, 20, step=5)\n",
    "\n",
    "    # Train \n",
    "    lda_model = LdaModel(\n",
    "        corpus=corpus,\n",
    "        id2word=id2word,\n",
    "        num_topics=5, \n",
    "        random_state=42,\n",
    "        passes=passes,\n",
    "        alpha=alpha,\n",
    "        eta=eta,\n",
    "        per_word_topics=True,\n",
    "    )\n",
    "\n",
    "    # Get coherence score\n",
    "    coherence_model_lda = CoherenceModel(\n",
    "        model=lda_model, texts=reviews_tokenized.tolist(), dictionary=id2word, coherence=\"c_v\"\n",
    "    )\n",
    "    coherence_score = coherence_model_lda.get_coherence()\n",
    "    \n",
    "    return coherence_score  \n",
    "\n",
    "# Optimization study using optuna\n",
    "study_lda = optuna.create_study(direction=\"maximize\")\n",
    "study_lda.optimize(lda_objective, n_trials=10)  \n",
    "\n",
    "# Get best tuned parameters & coherence score\n",
    "best_tuned_params = study_lda.best_trial.params\n",
    "best_tuned_coherence = study_lda.best_trial.value\n",
    "\n",
    "print(\"Best LDA Parameters:\", best_tuned_params)\n",
    "print(\"Best LDA Coherence Score:\", best_tuned_coherence)"
   ]
  },
  {
   "cell_type": "markdown",
   "metadata": {},
   "source": [
    "Compare LDA with default parameters vs best tuned parameters"
   ]
  },
  {
   "cell_type": "code",
   "execution_count": null,
   "metadata": {},
   "outputs": [
    {
     "name": "stdout",
     "output_type": "stream",
     "text": [
      "           Model Alpha        Eta  Passes  Coherence Score\n",
      "0  LDA (Default)  auto       auto      10         0.540228\n",
      "1    LDA (Tuned)  auto  symmetric      20         0.568846\n"
     ]
    }
   ],
   "source": [
    "import pandas as pd\n",
    "\n",
    "# LDA with default parameters\n",
    "lda_default = LdaModel(\n",
    "    corpus=corpus,\n",
    "    id2word=id2word,\n",
    "    num_topics=5,  \n",
    "    random_state=42,\n",
    "    passes=10,\n",
    "    alpha=\"auto\",\n",
    "    eta=\"auto\",\n",
    "    per_word_topics=True\n",
    ")\n",
    "\n",
    "# Coherence value of LDA with default parameters\n",
    "default_coherence = CoherenceModel(\n",
    "    model=lda_default, texts=reviews_tokenized.tolist(), dictionary=id2word, coherence=\"c_v\"\n",
    ").get_coherence()\n",
    "\n",
    "# Ablatian Study\n",
    "df_comparison = pd.DataFrame({\n",
    "    \"Model\": [\"LDA (Default)\", \"LDA (Tuned)\"],\n",
    "    \"Alpha\": [\"auto\", \"auto\"],\n",
    "    \"Eta\": [\"auto\", \"symmetric\"],\n",
    "    \"Passes\": [10, 20],\n",
    "    \"Coherence Score\": [default_coherence, best_tuned_coherence]\n",
    "})\n",
    "\n",
    "print(df_comparison)\n"
   ]
  },
  {
   "cell_type": "markdown",
   "metadata": {},
   "source": [
    "Based on the Ablation Study, tuning the hyperparameters of LDA led to an improvement in coherence score, indicating better topic separation and interpretability. The best-performing model used alpha='auto', eta='symmetric', and passes=20, achieving a coherence score of 0.568846. "
   ]
  },
  {
   "cell_type": "markdown",
   "metadata": {},
   "source": [
    "### c. Interpret and label discovered topics based on word distribution\n",
    "\n",
    "\n",
    "\n"
   ]
  },
  {
   "cell_type": "code",
   "execution_count": null,
   "metadata": {},
   "outputs": [
    {
     "data": {
      "text/plain": [
       "[(0,\n",
       "  '0.072*\"driver\" + 0.020*\"cancel\" + 0.016*\"gocar\" + 0.013*\"susah\" + 0.013*\"drivernya\" + 0.011*\"dapet\" + 0.011*\"order\" + 0.010*\"banget\" + 0.009*\"titik\" + 0.008*\"gojek\"'),\n",
       " (1,\n",
       "  '0.033*\"driver\" + 0.023*\"app\" + 0.012*\"gojek\" + 0.011*\"time\" + 0.011*\"order\" + 0.011*\"good\" + 0.010*\"service\" + 0.008*\"get\" + 0.007*\"customer\" + 0.007*\"use\"'),\n",
       " (2,\n",
       "  '0.014*\"gojek\" + 0.011*\"promo\" + 0.009*\"mantap\" + 0.007*\"meow\" + 0.007*\"akun\" + 0.004*\"verifikasi\" + 0.004*\"pin\" + 0.004*\"email\" + 0.003*\"apk\" + 0.003*\"bagus\"'),\n",
       " (3,\n",
       "  '0.016*\"driver\" + 0.013*\"gojek\" + 0.013*\"gofood\" + 0.012*\"aplikasi\" + 0.011*\"pesanan\" + 0.010*\"gopay\" + 0.010*\"makanan\" + 0.009*\"1\" + 0.009*\"c\" + 0.008*\"jam\"'),\n",
       " (4,\n",
       "  '0.031*\"gojek\" + 0.026*\"aplikasi\" + 0.013*\"promo\" + 0.010*\"pake\" + 0.010*\"membantu\" + 0.009*\"pakai\" + 0.008*\"plus\" + 0.006*\"banget\" + 0.006*\"bagus\" + 0.006*\"ya\"')]"
      ]
     },
     "execution_count": 99,
     "metadata": {},
     "output_type": "execute_result"
    }
   ],
   "source": [
    "# Find topics\n",
    "best_tuned_lda = LdaModel(\n",
    "    corpus=corpus,\n",
    "    id2word=id2word,\n",
    "    num_topics=5,  \n",
    "    random_state=42,\n",
    "    passes=20,\n",
    "    alpha=\"auto\",\n",
    "    eta=\"symmetric\",\n",
    "    per_word_topics=True\n",
    ")\n",
    "\n",
    "best_tuned_lda.print_topics()"
   ]
  },
  {
   "cell_type": "markdown",
   "metadata": {},
   "source": [
    "Topic 1: Miscellaneous positive feedback\n",
    "- Keywords: \"ok\", \"mantap\", \"pin\", \"meow\", \"customer\", \"gojek\", \"sigma\", \"easier\", \"go\", \"server\"\n",
    "\n",
    "Topic 2: Driver Service and App Experience\n",
    "- Keywords: \"driver\", \"app\", \"gojek\", \"time\", \"good\", \"order\", \"service\", \"get\", \"use\", \"even\"\n",
    "\n",
    "Topic 3: Driver Issues \n",
    "- Keywords: \"driver\", \"gojek\", \"banget\", \"drivernya\", \"aplikasi\", \"gocar\", \"cancel\", \"susah\", \"dapet\", \"gofood\"\n",
    "\n",
    "Topic 4: Order Process and Communication\n",
    "- Keywords: \"driver\", \"cancel\", \"aplikasi\", \"c\", \"order\", \"chat\", \"pesanan\", \"gofood\", \"customer\", \"gojek\"\n",
    "\n",
    "Topic 5: Payment Methods and Pricing\n",
    "- Keywords: \"gojek\", \"gopay\", \"aplikasi\", \"promo\", \"bayar\", \"pakai\", \"plus\", \"pake\", \"mahal\", \"beli\""
   ]
  },
  {
   "cell_type": "markdown",
   "metadata": {},
   "source": [
    "## 4. Evaluate topic modelling results\n"
   ]
  },
  {
   "cell_type": "code",
   "execution_count": null,
   "metadata": {},
   "outputs": [
    {
     "name": "stdout",
     "output_type": "stream",
     "text": [
      "Coherence Score (c_v): 0.5688\n",
      "Coherence Score (UMass): -4.9315\n",
      "\n",
      "Model Evaluation:\n",
      "----------------\n",
      "Perplexity: -7.7602\n",
      "Coherence Score (c_v): 0.5688\n",
      "Coherence Score (UMass): -4.9315\n"
     ]
    },
    {
     "data": {
      "image/png": "[encoded data removed]",
      "text/plain": [
       "<Figure size 1200x600 with 2 Axes>"
      ]
     },
     "metadata": {},
     "output_type": "display_data"
    },
    {
     "name": "stdout",
     "output_type": "stream",
     "text": [
      "\n",
      "Topic Interpretation:\n",
      "---------------------\n",
      "Topic #1: 0.072*\"driver\" + 0.020*\"cancel\" + 0.016*\"gocar\" + 0.013*\"susah\" + 0.013*\"drivernya\" + 0.011*\"dapet\" + 0.011*\"order\" + 0.010*\"banget\" + 0.009*\"titik\" + 0.008*\"gojek\"\n",
      "Interpretation: Driver Issues\n",
      "\n",
      "Topic #2: 0.033*\"driver\" + 0.023*\"app\" + 0.012*\"gojek\" + 0.011*\"time\" + 0.011*\"order\" + 0.011*\"good\" + 0.010*\"service\" + 0.008*\"get\" + 0.007*\"customer\" + 0.007*\"use\"\n",
      "Interpretation: Driver service and app usage experience\n",
      "\n",
      "Topic #3: 0.014*\"gojek\" + 0.011*\"promo\" + 0.009*\"mantap\" + 0.007*\"meow\" + 0.007*\"akun\" + 0.004*\"verifikasi\" + 0.004*\"pin\" + 0.004*\"email\" + 0.003*\"apk\" + 0.003*\"bagus\"\n",
      "Interpretation: Promo & Account Verifications\n",
      "\n",
      "Topic #4: 0.016*\"driver\" + 0.013*\"gojek\" + 0.013*\"gofood\" + 0.012*\"aplikasi\" + 0.011*\"pesanan\" + 0.010*\"gopay\" + 0.010*\"makanan\" + 0.009*\"1\" + 0.009*\"c\" + 0.008*\"jam\"\n",
      "Interpretation: GoFood Service\n",
      "\n",
      "Topic #5: 0.031*\"gojek\" + 0.026*\"aplikasi\" + 0.013*\"promo\" + 0.010*\"pake\" + 0.010*\"membantu\" + 0.009*\"pakai\" + 0.008*\"plus\" + 0.006*\"banget\" + 0.006*\"bagus\" + 0.006*\"ya\"\n",
      "Interpretation: Experience With Promo\n",
      "\n"
     ]
    }
   ],
   "source": [
    "# Calculate coherence score for the LDA model\n",
    "from gensim.models import CoherenceModel\n",
    "\n",
    "# Coherence using c_v measure (most common)\n",
    "coherence_model_cv = CoherenceModel(\n",
    "    model=best_tuned_lda, \n",
    "    texts=reviews_tokenized, \n",
    "    dictionary=id2word, \n",
    "    coherence='c_v'\n",
    ")\n",
    "print(f\"Coherence Score (c_v): {best_tuned_coherence:.4f}\")\n",
    "\n",
    "coherence_scores = coherence_model_cv.get_coherence_per_topic()\n",
    "\n",
    "# You can also try other coherence measures\n",
    "coherence_model_umass = CoherenceModel(\n",
    "    model=best_tuned_lda, \n",
    "    texts=reviews_tokenized,\n",
    "    dictionary=id2word,\n",
    "    coherence='u_mass'  # UMass coherence (usually negative, higher is better)\n",
    ")\n",
    "\n",
    "coherence_score_umass = coherence_model_umass.get_coherence()\n",
    "print(f\"Coherence Score (UMass): {coherence_score_umass:.4f}\")\n",
    "\n",
    "\n",
    "print(\"\\nModel Evaluation:\")\n",
    "print(\"----------------\")\n",
    "perplexity = best_tuned_lda.log_perplexity(corpus)\n",
    "print(f\"Perplexity: {perplexity:.4f}\") \n",
    "print(f\"Coherence Score (c_v): {best_tuned_coherence:.4f}\")  \n",
    "print(f\"Coherence Score (UMass): {coherence_score_umass:.4f}\")  \n",
    "\n",
    "# Visualize both metrics together\n",
    "fig, ax1 = plt.figure(figsize=(12, 6)), plt.subplot(121)\n",
    "ax1.bar(range(len(coherence_scores)), coherence_scores, color='b')\n",
    "ax1.set_xlabel('Topic ID')\n",
    "ax1.set_ylabel('Coherence Score', color='b')\n",
    "ax1.set_title('Topic Coherence Scores')\n",
    "ax1.tick_params(axis='y', labelcolor='b')\n",
    "ax1.set_xticks(range(len(coherence_scores)))\n",
    "\n",
    "# Create a separate plot for perplexity\n",
    "ax2 = plt.subplot(122)\n",
    "ax2.text(0.5, 0.5, f\"Log Perplexity:\\n{perplexity:.4f}\", \n",
    "         horizontalalignment='center', verticalalignment='center', fontsize=16)\n",
    "ax2.axis('off')\n",
    "ax2.set_title('Model Perplexity (Lower is Better)')\n",
    "\n",
    "plt.tight_layout()\n",
    "plt.show()\n",
    "\n",
    "print(\"\\nTopic Interpretation:\")\n",
    "print(\"---------------------\")\n",
    "for topic_id, topic in enumerate(best_tuned_lda.print_topics(num_words=10)):\n",
    "    print(f\"Topic #{topic_id + 1}: {topic[1]}\")\n",
    "    \n",
    "    if topic_id == 0:\n",
    "        print(\"Interpretation: Driver Issues\")\n",
    "    elif topic_id == 1:\n",
    "        print(\"Interpretation: Driver service and app usage experience\")\n",
    "    elif topic_id == 2:\n",
    "        print(\"Interpretation: Promo & Account Verifications\")\n",
    "    elif topic_id == 3:\n",
    "        print(\"Interpretation: GoFood Service\")\n",
    "    elif topic_id == 4:\n",
    "        print(\"Interpretation: Experience With Promo\")\n",
    "    print()"
   ]
  },
  {
   "cell_type": "markdown",
   "metadata": {},
   "source": [
    "## 5. Categorize review tags"
   ]
  },
  {
   "cell_type": "code",
   "execution_count": null,
   "metadata": {},
   "outputs": [
    {
     "ename": "NameError",
     "evalue": "name 'corpus' is not defined",
     "output_type": "error",
     "traceback": [
      "\u001b[1;31m---------------------------------------------------------------------------\u001b[0m",
      "\u001b[1;31mNameError\u001b[0m                                 Traceback (most recent call last)",
      "Cell \u001b[1;32mIn[5], line 2\u001b[0m\n\u001b[0;32m      1\u001b[0m \u001b[38;5;66;03m# Assign each review to its most probable topic using the best LDA model\u001b[39;00m\n\u001b[1;32m----> 2\u001b[0m topic_assignments \u001b[38;5;241m=\u001b[39m [\u001b[38;5;28mmax\u001b[39m(best_tuned_lda\u001b[38;5;241m.\u001b[39mget_document_topics(bow), key\u001b[38;5;241m=\u001b[39m\u001b[38;5;28;01mlambda\u001b[39;00m x: x[\u001b[38;5;241m1\u001b[39m])[\u001b[38;5;241m0\u001b[39m] \u001b[38;5;28;01mfor\u001b[39;00m bow \u001b[38;5;129;01min\u001b[39;00m \u001b[43mcorpus\u001b[49m]\n\u001b[0;32m      4\u001b[0m \u001b[38;5;66;03m# Count the number of reviews per topic\u001b[39;00m\n\u001b[0;32m      5\u001b[0m \u001b[38;5;28;01mimport\u001b[39;00m \u001b[38;5;21;01mpandas\u001b[39;00m \u001b[38;5;28;01mas\u001b[39;00m \u001b[38;5;21;01mpd\u001b[39;00m\n",
      "\u001b[1;31mNameError\u001b[0m: name 'corpus' is not defined"
     ]
    }
   ],
   "source": [
    "# Ensure corpus and best_tuned_lda are defined before running this cell\n",
    "if 'corpus' not in globals() or 'best_tuned_lda' not in globals():\n",
    "    # Re-import and re-define if running this cell standalone\n",
    "    import gensim\n",
    "    import gensim.corpora as corpora\n",
    "    from gensim.models.ldamodel import LdaModel\n",
    "    from nltk.tokenize import word_tokenize\n",
    "    reviews_tokenized = reviews['lemmatized_content'].astype(str).apply(word_tokenize)\n",
    "    id2word = corpora.Dictionary(reviews_tokenized)\n",
    "    corpus = [id2word.doc2bow(text) for text in reviews_tokenized]\n",
    "    best_tuned_lda = LdaModel(\n",
    "        corpus=corpus,\n",
    "        id2word=id2word,\n",
    "        num_topics=5,\n",
    "        random_state=42,\n",
    "        passes=20,\n",
    "        alpha=\"auto\",\n",
    "        eta=\"symmetric\",\n",
    "        per_word_topics=True\n",
    "    )\n",
    "\n",
    "# Assign each review to its most probable topic using the best LDA model\n",
    "topic_assignments = [max(best_tuned_lda.get_document_topics(bow), key=lambda x: x[1])[0] for bow in corpus]\n",
    "\n",
    "# Count the number of reviews per topic\n",
    "import pandas as pd\n",
    "topic_counts = pd.Series(topic_assignments).value_counts().sort_index()\n",
    "\n",
    "# Calculate the proportion (%) of each topic\n",
    "topic_proportions = topic_counts / topic_counts.sum() * 100\n",
    "\n",
    "# Optionally, define topic names based on your interpretation above\n",
    "topic_names = {\n",
    "    0: \"Miscellaneous positive feedback\",\n",
    "    1: \"Driver Service and App Experience\",\n",
    "    2: \"Driver Issues\",\n",
    "    3: \"Order Process and Communication\",\n",
    "    4: \"Payment Methods and Pricing\"\n",
    "}\n",
    "\n",
    "# Visualize distribution of topics\n",
    "plt.figure(figsize=(12, 6))\n",
    "bars = plt.bar(\n",
    "    [topic_names[i] for i in topic_counts.index], \n",
    "    topic_proportions,\n",
    "    color=['skyblue', 'lightgreen', 'salmon', 'plum', 'gold']  # Changed 'lightpurple' to 'plum'\n",
    ")\n",
    "\n",
    "# Add percentage labels on top of bars\n",
    "for bar in bars:\n",
    "    height = bar.get_height()\n",
    "    plt.text(\n",
    "        bar.get_x() + bar.get_width()/2.,\n",
    "        height + 0.5,\n",
    "        f\"{height:.1f}%\",\n",
    "        ha='center', va='bottom'\n",
    "    )\n",
    "\n",
    "plt.title('Distribution of Review Topics')\n",
    "plt.xlabel('Topic')\n",
    "plt.ylabel('Percentage of Reviews')\n",
    "plt.xticks(rotation=45, ha='right')\n",
    "plt.tight_layout()\n",
    "plt.show()"
   ]
  }
 ],
 "metadata": {
  "kernelspec": {
   "display_name": "Python 3",
   "language": "python",
   "name": "python3"
  },
  "language_info": {
   "codemirror_mode": {
    "name": "ipython",
    "version": 3
   },
   "file_extension": ".py",
   "mimetype": "text/x-python",
   "name": "python",
   "nbconvert_exporter": "python",
   "pygments_lexer": "ipython3",
   "version": "3.12.8"
  }
 },
 "nbformat": 4,
 "nbformat_minor": 2
}
